{
 "cells": [
  {
   "cell_type": "code",
   "execution_count": 3,
   "source": [
    "from IPython.display import display, clear_output\r\n",
    "from urllib.request import urlopen\r\n",
    "import pandas as pd\r\n",
    "import datetime\r\n",
    "import requests\r\n",
    "import sched\r\n",
    "import time\r\n",
    "import json\r\n",
    "\r\n",
    "s = sched.scheduler(time.time, time.sleep)\r\n",
    "\r\n",
    "def tableColor(val):\r\n",
    "    if type(val) == 'int':\r\n",
    "        if val > 0:\r\n",
    "            color = 'red'\r\n",
    "        elif val < 0:\r\n",
    "            color = 'green'\r\n",
    "        else:\r\n",
    "            color = 'white'\r\n",
    "        return 'color: %s' % color\r\n",
    "\r\n",
    "def stock_crawler(targets):\r\n",
    "    \r\n",
    "    clear_output(wait=True)\r\n",
    "    \r\n",
    "    # 組成stock_list\r\n",
    "    stock_list = '|'.join('tse_{}.tw'.format(target) for target in targets) \r\n",
    "    \r\n",
    "    #　query data\r\n",
    "    query_url = \"http://mis.twse.com.tw/stock/api/getStockInfo.jsp?ex_ch=\"+ stock_list\r\n",
    "    data = json.loads(urlopen(query_url).read())\r\n",
    "\r\n",
    "    # 過濾出有用到的欄位\r\n",
    "    columns = ['c','n','z','tv','v','o','h','l','y']\r\n",
    "    df = pd.DataFrame(data['msgArray'], columns=columns)\r\n",
    "    df.columns = ['股票代號','公司簡稱','當盤成交價','當盤成交量','累積成交量','開盤價','最高價','最低價','昨收價']\r\n",
    "    df.insert(9, \"漲跌百分比\", 0.0) \r\n",
    "    \r\n",
    "    # 新增漲跌百分比\r\n",
    "    for x in range(len(df.index)):\r\n",
    "        if df['當盤成交價'].iloc[x] != '-':\r\n",
    "            df.iloc[x, [2,3,4,5,6,7,8]] = df.iloc[x, [2,3,4,5,6,7,8]].astype(float)\r\n",
    "            df['漲跌百分比'].iloc[x] = (df['當盤成交價'].iloc[x] - df['昨收價'].iloc[x])/df['昨收價'].iloc[x] * 100\r\n",
    "    \r\n",
    "    # 紀錄更新時間\r\n",
    "    time = datetime.datetime.now()  \r\n",
    "    print(\"更新時間:\" + str(time.hour)+\":\"+str(time.minute))\r\n",
    "    \r\n",
    "    # show table\r\n",
    "    df = df.style.applymap(tableColor, subset=['漲跌百分比'])\r\n",
    "    display(df)\r\n",
    "    \r\n",
    "    start_time = datetime.datetime.strptime(str(time.date())+'9:30', '%Y-%m-%d%H:%M')\r\n",
    "    end_time =  datetime.datetime.strptime(str(time.date())+'13:30', '%Y-%m-%d%H:%M')\r\n",
    "    \r\n",
    "    # 判斷爬蟲終止條件\r\n",
    "    if time >= start_time and time <= end_time:\r\n",
    "        s.enter(2, 0, stock_crawler, argument=(targets,))\r\n",
    "\r\n",
    "stock_list = ['1101','1102','2376','2330']\r\n",
    "# 每秒定時器\r\n",
    "s.enter(2, 0, stock_crawler, argument=(stock_list,))\r\n",
    "s.run()"
   ],
   "outputs": [],
   "metadata": {}
  }
 ],
 "metadata": {
  "orig_nbformat": 4,
  "language_info": {
   "name": "python",
   "version": "3.9.7",
   "mimetype": "text/x-python",
   "codemirror_mode": {
    "name": "ipython",
    "version": 3
   },
   "pygments_lexer": "ipython3",
   "nbconvert_exporter": "python",
   "file_extension": ".py"
  },
  "kernelspec": {
   "name": "python3",
   "display_name": "Python 3.9.7 64-bit"
  },
  "interpreter": {
   "hash": "4ce0e62306dd6a5716965d4519ada776f947e6dfc145b604b11307c10277ef29"
  }
 },
 "nbformat": 4,
 "nbformat_minor": 2
}